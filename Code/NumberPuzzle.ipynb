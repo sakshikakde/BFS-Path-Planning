{
 "metadata": {
  "language_info": {
   "codemirror_mode": {
    "name": "ipython",
    "version": 3
   },
   "file_extension": ".py",
   "mimetype": "text/x-python",
   "name": "python",
   "nbconvert_exporter": "python",
   "pygments_lexer": "ipython3",
   "version": "3.6.9-final"
  },
  "orig_nbformat": 2,
  "kernelspec": {
   "name": "python3",
   "display_name": "Python 3",
   "language": "python"
  }
 },
 "nbformat": 4,
 "nbformat_minor": 2,
 "cells": [
  {
   "cell_type": "code",
   "execution_count": 1,
   "metadata": {},
   "outputs": [],
   "source": [
    "import numpy as np\n",
    "import timeit\n",
    "import argparse\n",
    "import cv2\n",
    "import matplotlib.pyplot as plt"
   ]
  },
  {
   "cell_type": "code",
   "execution_count": 2,
   "metadata": {},
   "outputs": [],
   "source": [
    "class Node():\n",
    "    def __init__(self, state, parent, move, cost): \n",
    "\n",
    "        self.state = state\n",
    "        self.parent = parent\n",
    "        self.move = move\n",
    "        self.cost = cost\n",
    "        \n",
    "    def getState(self):\n",
    "        return self.state\n",
    "\t\t\n",
    "    def getParent(self):\n",
    "        return self.parent\n",
    "\t\t\n",
    "    def getMove(self):\n",
    "\t    return self.move\n",
    "\t\t\n",
    "    def getCost(self):\n",
    "        return self.cost\n",
    "\n",
    "    def getFullPath(self):\n",
    "        \n",
    "        moves = []\n",
    "        nodes = []\n",
    "        current_node = self\n",
    "        while(current_node.getMove() is not None):\n",
    "\n",
    "            moves.append(current_node.getMove())\n",
    "            nodes.append(current_node)\n",
    "            current_node = current_node.getParent()\n",
    "\n",
    "        nodes.append(current_node)\n",
    "        moves.reverse()\n",
    "        nodes.reverse()\n",
    "        \n",
    "        return moves, nodes\n",
    "\n",
    "    def printStats(self):\n",
    "        pass\n",
    "\n"
   ]
  },
  {
   "cell_type": "code",
   "execution_count": 3,
   "metadata": {},
   "outputs": [],
   "source": [
    "def getBranches(node, step_size, space_size):\n",
    "\n",
    "    moves = [\"up\", \"down\", \"left\", \"right\", \"diagonal_right_up\", \"diagonal_right_down\", \"diagonal_left_up\", \"diagonal_left_down\"]\n",
    "    branches = []\n",
    "    branches.append(Node(moveUp(node.getState(), step_size, space_size), node, moves[0], node.getCost() + 1))\n",
    "    branches.append(Node(moveDown(node.getState(), step_size, space_size), node, moves[1], node.getCost() + 1))\n",
    "    branches.append(Node(moveLeft(node.getState(), step_size, space_size), node, moves[2], node.getCost() + 1))\n",
    "    branches.append(Node(moveRight(node.getState(), step_size, space_size), node, moves[3], node.getCost() + 1))\n",
    "\n",
    "    branches.append(Node(moveDiagonalRightUp(node.getState(), step_size, space_size), node, moves[0], node.getCost() + np.sqrt(2)))\n",
    "    branches.append(Node(moveDiagonalRightDown(node.getState(), step_size, space_size), node, moves[1], node.getCost() + np.sqrt(2)))\n",
    "    branches.append(Node(moveDiagonalLeftUp(node.getState(), step_size, space_size), node, moves[2], node.getCost() + np.sqrt(2)))\n",
    "    branches.append(Node(moveDiagonalLeftDown(node.getState(), step_size, space_size), node, moves[3], node.getCost() + np.sqrt(2)))\n",
    "\n",
    "    #remove None nodes\n",
    "    b = [branch for branch in branches if branch.getState() is not None]\n",
    "            \n",
    "    return b\n",
    "\n"
   ]
  },
  {
   "cell_type": "code",
   "execution_count": 62,
   "metadata": {},
   "outputs": [],
   "source": [
    "def moveUp(state, step_size, space_size): #assuming we cat land on the borders\n",
    "\n",
    "    size_x = space_size[1]\n",
    "    size_y = space_size[0]\n",
    "\n",
    "    current_position = state.copy()\n",
    "    next_position = current_position.copy()\n",
    " \n",
    "    if (current_position[1] < size_y - step_size) and check4Obstacle(current_position):\n",
    "        next_position[1] = current_position[1] + step_size\n",
    "        return next_position\n",
    "    else:\n",
    "        return None\n",
    "\n",
    "def moveDown(state, step_size, grid_size):\n",
    "\n",
    "    current_position = state.copy()\n",
    "    next_position = current_position.copy()\n",
    " \n",
    "    if (current_position[1] > 0 + step_size) and check4Obstacle(current_position):\n",
    "        next_position[1] = current_position[1] - step_size\n",
    "        return next_position\n",
    "    else:\n",
    "        return None\n",
    "\n",
    "def moveRight(state, step_size, grid_size):\n",
    "\n",
    "    size_x = space_size[1]\n",
    "    size_y = space_size[0]\n",
    "\n",
    "    current_position = state.copy()\n",
    "    next_position = current_position.copy()\n",
    " \n",
    "    if (current_position[0] < size_x - step_size) and check4Obstacle(current_position):\n",
    "        next_position[0] = current_position[0] + step_size\n",
    "        return next_position\n",
    "    else:\n",
    "        return None\n",
    "\n",
    "def moveLeft(state, step_size, grid_size):\n",
    "    current_position = state.copy()\n",
    "    next_position = current_position.copy()\n",
    " \n",
    "    if (current_position[0] > 0 + step_size) and check4Obstacle(current_position):\n",
    "        next_position[0] = current_position[0] - step_size\n",
    "        return next_position\n",
    "    else:\n",
    "        return None\n",
    "\n",
    "def moveDiagonalRightUp(state, step_size, grid_size):\n",
    "\n",
    "    size_x = space_size[1]\n",
    "    size_y = space_size[0]\n",
    "\n",
    "    current_position = state.copy()\n",
    "    next_position = current_position.copy()\n",
    " \n",
    "    if ((current_position[0] < size_x - step_size) and (current_position[1] < size_y - step_size)) and check4Obstacle(current_position):\n",
    "        next_position[0] = current_position[0] + step_size\n",
    "        next_position[1] = current_position[1] + step_size\n",
    "        return next_position\n",
    "    else:\n",
    "        return None\n",
    "\n",
    "\n",
    "def moveDiagonalRightDown(state, step_size, grid_size):\n",
    "    size_x = space_size[1]\n",
    "    size_y = space_size[0]\n",
    "\n",
    "    current_position = state.copy()\n",
    "    next_position = current_position.copy()\n",
    " \n",
    "    if ((current_position[0] < size_x - step_size) and (current_position[1] > 0 + step_size)) and check4Obstacle(current_position):\n",
    "        next_position[0] = current_position[0] + step_size\n",
    "        next_position[1] = current_position[1] - step_size\n",
    "        if next_position[1] < 0:\n",
    "            print(\"right_down\")\n",
    "        return next_position\n",
    "    else:\n",
    "        return None\n",
    "\n",
    "def moveDiagonalLeftUp(state, step_size, grid_size):\n",
    "    size_x = space_size[1]\n",
    "    size_y = space_size[0]\n",
    "\n",
    "    current_position = state.copy()\n",
    "    next_position = current_position.copy()\n",
    " \n",
    "    if ((current_position[0] > 0 + step_size) and (current_position[1] < size_y - step_size)) and check4Obstacle(current_position):\n",
    "        next_position[0] = current_position[0] - step_size\n",
    "        next_position[1] = current_position[1] + step_size\n",
    "        return next_position\n",
    "    else:\n",
    "        return None\n",
    "\n",
    "\n",
    "def moveDiagonalLeftDown(state, step_size, grid_size):\n",
    "    current_position = state.copy()\n",
    "    next_position = current_position.copy()\n",
    " \n",
    "    if ((current_position[0] > 0 + step_size) and (current_position[1] > 0 + step_size)) and check4Obstacle(current_position):\n",
    "        next_position[0] = current_position[0] - step_size\n",
    "        next_position[1] = current_position[1] - step_size\n",
    "        return next_position\n",
    "    else:\n",
    "        return None"
   ]
  },
  {
   "cell_type": "code",
   "execution_count": 63,
   "metadata": {},
   "outputs": [],
   "source": [
    "def bfsSearch(init_state, goal_state, grid_size):\n",
    "\n",
    "    nodes = list()\n",
    "    visited_states = list()\n",
    "\n",
    "    init_node = Node(init_state, 0, None, 0)\n",
    "    nodes.append(init_node)\n",
    "\n",
    "    while(nodes):\n",
    "\n",
    "        current_node = nodes.pop()\n",
    "        visited_states.append(current_node.getState())\n",
    "\n",
    "        \n",
    "        #print(\"number of visited nodes: \", len(visited_states))\n",
    "\n",
    "        if np.array_equal(current_node.getState(), goal_state):\n",
    "            \n",
    "            print(\"Goal Reached!\")\n",
    "            print(\"Total number of nodes explored:\", len(visited_states))\n",
    "            print(\"The cost of path: \", current_node.getCost())\n",
    "            full_path, node_path = current_node.getFullPath()\n",
    "            return full_path, node_path\n",
    "\n",
    "        else:\n",
    "            branches = getBranches(current_node, grid_size) \n",
    "            \n",
    "            for branch in branches:\n",
    "                branch_state = branch.getState()\n",
    "                if branch_state not in visited_states:\n",
    "                    nodes.insert(0, branch)\n",
    "  "
   ]
  },
  {
   "cell_type": "code",
   "execution_count": 81,
   "metadata": {},
   "outputs": [],
   "source": [
    "def check4Obstacle(state):\n",
    "\n",
    "    #square 1 \n",
    "    offset_x = 90\n",
    "    offset_y = 40\n",
    "    size_x = 20\n",
    "    size_y = 20\n",
    "    if (state[0] >= offset_x) and (state[0] <= offset_x + size_x) and (state[1] >= offset_y) and (state[1] <= offset_y + size_y):\n",
    "        return False\n",
    "    else:\n",
    "        return True\n",
    "\n"
   ]
  },
  {
   "cell_type": "code",
   "execution_count": 82,
   "metadata": {},
   "outputs": [],
   "source": [
    "space_size = [100, 200]\n",
    "init_state = [50, 50]\n",
    "goal_state = [150, 70]\n",
    "step_size = 1"
   ]
  },
  {
   "cell_type": "code",
   "execution_count": 83,
   "metadata": {},
   "outputs": [],
   "source": [
    "space_map = np.zeros([space_size[0], space_size[1], 3], dtype=np.uint8)\n",
    "space_map = updateMap(space_map, init_state, [0,0,255])\n",
    "space_map = updateMap(space_map, goal_state, [0,0,255])"
   ]
  },
  {
   "cell_type": "code",
   "execution_count": 84,
   "metadata": {},
   "outputs": [
    {
     "output_type": "execute_result",
     "data": {
      "text/plain": [
       "<matplotlib.image.AxesImage at 0x7fea12169a20>"
      ]
     },
     "metadata": {},
     "execution_count": 84
    },
    {
     "output_type": "display_data",
     "data": {
      "text/plain": "<Figure size 432x288 with 1 Axes>",
      "image/svg+xml": "<?xml version=\"1.0\" encoding=\"utf-8\" standalone=\"no\"?>\n<!DOCTYPE svg PUBLIC \"-//W3C//DTD SVG 1.1//EN\"\n  \"http://www.w3.org/Graphics/SVG/1.1/DTD/svg11.dtd\">\n<!-- Created with matplotlib (https://matplotlib.org/) -->\n<svg height=\"201.440344pt\" version=\"1.1\" viewBox=\"0 0 368.925 201.440344\" width=\"368.925pt\" xmlns=\"http://www.w3.org/2000/svg\" xmlns:xlink=\"http://www.w3.org/1999/xlink\">\n <metadata>\n  <rdf:RDF xmlns:cc=\"http://creativecommons.org/ns#\" xmlns:dc=\"http://purl.org/dc/elements/1.1/\" xmlns:rdf=\"http://www.w3.org/1999/02/22-rdf-syntax-ns#\">\n   <cc:Work>\n    <dc:type rdf:resource=\"http://purl.org/dc/dcmitype/StillImage\"/>\n    <dc:date>2021-03-02T03:02:03.113762</dc:date>\n    <dc:format>image/svg+xml</dc:format>\n    <dc:creator>\n     <cc:Agent>\n      <dc:title>Matplotlib v3.3.3, https://matplotlib.org/</dc:title>\n     </cc:Agent>\n    </dc:creator>\n   </cc:Work>\n  </rdf:RDF>\n </metadata>\n <defs>\n  <style type=\"text/css\">*{stroke-linecap:butt;stroke-linejoin:round;}</style>\n </defs>\n <g id=\"figure_1\">\n  <g id=\"patch_1\">\n   <path d=\"M -0 201.440344 \nL 368.925 201.440344 \nL 368.925 0 \nL -0 0 \nz\n\" style=\"fill:none;\"/>\n  </g>\n  <g id=\"axes_1\">\n   <g id=\"patch_2\">\n    <path d=\"M 26.925 177.562219 \nL 361.725 177.562219 \nL 361.725 10.162219 \nL 26.925 10.162219 \nz\n\" style=\"fill:#ffffff;\"/>\n   </g>\n   <g clip-path=\"url(#pa8abb611e3)\">\n    <image height=\"168\" id=\"image8023726427\" transform=\"scale(1 -1)translate(0 -168)\" width=\"335\" x=\"26.925\" xlink:href=\"data:image/png;base64,\niVBORw0KGgoAAAANSUhEUgAAAU8AAACoCAYAAABg+2x8AAACpklEQVR4nO3YsYkUYBSF0TuCglZgaBOCWIINbKvmCyYWYigYC2MNfszwM7vnVHCjj8e7bLsOgP/y5vQAgEckngCBeAIE4gkQiCdAIJ4AgXgCBOIJEIgnQCCeAIF4AgTiCRCIJ0AgngCBeAIE4gkQiCdAIJ4AgXgCBOIJEIgnQCCeAIF4AgTiCRCIJ0AgngCBeAIE4gkQiCdAIJ4AgXgCBOIJEIgnQCCeAIF4AgTiCRCIJ0AgngCBeAIE4gkQiCdAIJ4AgXgCBOIJEIgnQCCeAIF4AgTiCRCIJ0AgngCBeAIE4gkQiCdAIJ4AgXgCBOIJEIgnQCCeAIF4AgTiCRCIJ0AgngCBeAIE4gkQiCdAIJ4AgXgCBOIJEIgnQCCeAIF4AgTiCRCIJ0AgngCBeAIE4gkQiCdAIJ4AgXgCBOIJEIgnQCCeAIF43tS7bR+3fTg9BLgz8bypr9t+bns6PQS4M/G8qd/bfmz7dXoIcGeXbdfTIwAejcsTIBBPgEA8AQLxBAjEEyAQT4BAPAEC8QQIxBMgEE+AQDwBAvEECMQTIBBPgEA8AQLxBAjEEyAQT4BAPAEC8QQIxBMgEE+AQDwBAvEECMQTIBBPgEA8AQLxBAjEEyAQT4BAPOHV+Lbtadvb00NehMu26+kRwL1dtn3f9mnb521/jq55CcQTXo0v295ve9729/CWxyeeAIGfJ0AgngCBeAIE4gkQiCdAIJ4AgXgCBOIJEIgnQCCeAIF4AgTiCRCIJ0AgngCBeAIE4gkQiCdAIJ4AgXgCBOIJEIgnQCCeAIF4AgTiCRCIJ0AgngCBeAIE4gkQiCdAIJ4AgXgCBOIJEIgnQCCeAIF4AgTiCRCIJ0AgngCBeAIE4gkQiCdAIJ4AgXgCBOIJEIgnQCCeAIF4AgT/ALTZDw1pRW41AAAAAElFTkSuQmCC\" y=\"-9.562219\"/>\n   </g>\n   <g id=\"matplotlib.axis_1\">\n    <g id=\"xtick_1\">\n     <g id=\"line2d_1\">\n      <defs>\n       <path d=\"M 0 0 \nL 0 3.5 \n\" id=\"m655619913d\" style=\"stroke:#000000;stroke-width:0.8;\"/>\n      </defs>\n      <g>\n       <use style=\"stroke:#000000;stroke-width:0.8;\" x=\"27.762\" xlink:href=\"#m655619913d\" y=\"177.562219\"/>\n      </g>\n     </g>\n     <g id=\"text_1\">\n      <!-- 0 -->\n      <g transform=\"translate(24.58075 192.160656)scale(0.1 -0.1)\">\n       <defs>\n        <path d=\"M 31.78125 66.40625 \nQ 24.171875 66.40625 20.328125 58.90625 \nQ 16.5 51.421875 16.5 36.375 \nQ 16.5 21.390625 20.328125 13.890625 \nQ 24.171875 6.390625 31.78125 6.390625 \nQ 39.453125 6.390625 43.28125 13.890625 \nQ 47.125 21.390625 47.125 36.375 \nQ 47.125 51.421875 43.28125 58.90625 \nQ 39.453125 66.40625 31.78125 66.40625 \nz\nM 31.78125 74.21875 \nQ 44.046875 74.21875 50.515625 64.515625 \nQ 56.984375 54.828125 56.984375 36.375 \nQ 56.984375 17.96875 50.515625 8.265625 \nQ 44.046875 -1.421875 31.78125 -1.421875 \nQ 19.53125 -1.421875 13.0625 8.265625 \nQ 6.59375 17.96875 6.59375 36.375 \nQ 6.59375 54.828125 13.0625 64.515625 \nQ 19.53125 74.21875 31.78125 74.21875 \nz\n\" id=\"DejaVuSans-48\"/>\n       </defs>\n       <use xlink:href=\"#DejaVuSans-48\"/>\n      </g>\n     </g>\n    </g>\n    <g id=\"xtick_2\">\n     <g id=\"line2d_2\">\n      <g>\n       <use style=\"stroke:#000000;stroke-width:0.8;\" x=\"69.612\" xlink:href=\"#m655619913d\" y=\"177.562219\"/>\n      </g>\n     </g>\n     <g id=\"text_2\">\n      <!-- 25 -->\n      <g transform=\"translate(63.2495 192.160656)scale(0.1 -0.1)\">\n       <defs>\n        <path d=\"M 19.1875 8.296875 \nL 53.609375 8.296875 \nL 53.609375 0 \nL 7.328125 0 \nL 7.328125 8.296875 \nQ 12.9375 14.109375 22.625 23.890625 \nQ 32.328125 33.6875 34.8125 36.53125 \nQ 39.546875 41.84375 41.421875 45.53125 \nQ 43.3125 49.21875 43.3125 52.78125 \nQ 43.3125 58.59375 39.234375 62.25 \nQ 35.15625 65.921875 28.609375 65.921875 \nQ 23.96875 65.921875 18.8125 64.3125 \nQ 13.671875 62.703125 7.8125 59.421875 \nL 7.8125 69.390625 \nQ 13.765625 71.78125 18.9375 73 \nQ 24.125 74.21875 28.421875 74.21875 \nQ 39.75 74.21875 46.484375 68.546875 \nQ 53.21875 62.890625 53.21875 53.421875 \nQ 53.21875 48.921875 51.53125 44.890625 \nQ 49.859375 40.875 45.40625 35.40625 \nQ 44.1875 33.984375 37.640625 27.21875 \nQ 31.109375 20.453125 19.1875 8.296875 \nz\n\" id=\"DejaVuSans-50\"/>\n        <path d=\"M 10.796875 72.90625 \nL 49.515625 72.90625 \nL 49.515625 64.59375 \nL 19.828125 64.59375 \nL 19.828125 46.734375 \nQ 21.96875 47.46875 24.109375 47.828125 \nQ 26.265625 48.1875 28.421875 48.1875 \nQ 40.625 48.1875 47.75 41.5 \nQ 54.890625 34.8125 54.890625 23.390625 \nQ 54.890625 11.625 47.5625 5.09375 \nQ 40.234375 -1.421875 26.90625 -1.421875 \nQ 22.3125 -1.421875 17.546875 -0.640625 \nQ 12.796875 0.140625 7.71875 1.703125 \nL 7.71875 11.625 \nQ 12.109375 9.234375 16.796875 8.0625 \nQ 21.484375 6.890625 26.703125 6.890625 \nQ 35.15625 6.890625 40.078125 11.328125 \nQ 45.015625 15.765625 45.015625 23.390625 \nQ 45.015625 31 40.078125 35.4375 \nQ 35.15625 39.890625 26.703125 39.890625 \nQ 22.75 39.890625 18.8125 39.015625 \nQ 14.890625 38.140625 10.796875 36.28125 \nz\n\" id=\"DejaVuSans-53\"/>\n       </defs>\n       <use xlink:href=\"#DejaVuSans-50\"/>\n       <use x=\"63.623047\" xlink:href=\"#DejaVuSans-53\"/>\n      </g>\n     </g>\n    </g>\n    <g id=\"xtick_3\">\n     <g id=\"line2d_3\">\n      <g>\n       <use style=\"stroke:#000000;stroke-width:0.8;\" x=\"111.462\" xlink:href=\"#m655619913d\" y=\"177.562219\"/>\n      </g>\n     </g>\n     <g id=\"text_3\">\n      <!-- 50 -->\n      <g transform=\"translate(105.0995 192.160656)scale(0.1 -0.1)\">\n       <use xlink:href=\"#DejaVuSans-53\"/>\n       <use x=\"63.623047\" xlink:href=\"#DejaVuSans-48\"/>\n      </g>\n     </g>\n    </g>\n    <g id=\"xtick_4\">\n     <g id=\"line2d_4\">\n      <g>\n       <use style=\"stroke:#000000;stroke-width:0.8;\" x=\"153.312\" xlink:href=\"#m655619913d\" y=\"177.562219\"/>\n      </g>\n     </g>\n     <g id=\"text_4\">\n      <!-- 75 -->\n      <g transform=\"translate(146.9495 192.160656)scale(0.1 -0.1)\">\n       <defs>\n        <path d=\"M 8.203125 72.90625 \nL 55.078125 72.90625 \nL 55.078125 68.703125 \nL 28.609375 0 \nL 18.3125 0 \nL 43.21875 64.59375 \nL 8.203125 64.59375 \nz\n\" id=\"DejaVuSans-55\"/>\n       </defs>\n       <use xlink:href=\"#DejaVuSans-55\"/>\n       <use x=\"63.623047\" xlink:href=\"#DejaVuSans-53\"/>\n      </g>\n     </g>\n    </g>\n    <g id=\"xtick_5\">\n     <g id=\"line2d_5\">\n      <g>\n       <use style=\"stroke:#000000;stroke-width:0.8;\" x=\"195.162\" xlink:href=\"#m655619913d\" y=\"177.562219\"/>\n      </g>\n     </g>\n     <g id=\"text_5\">\n      <!-- 100 -->\n      <g transform=\"translate(185.61825 192.160656)scale(0.1 -0.1)\">\n       <defs>\n        <path d=\"M 12.40625 8.296875 \nL 28.515625 8.296875 \nL 28.515625 63.921875 \nL 10.984375 60.40625 \nL 10.984375 69.390625 \nL 28.421875 72.90625 \nL 38.28125 72.90625 \nL 38.28125 8.296875 \nL 54.390625 8.296875 \nL 54.390625 0 \nL 12.40625 0 \nz\n\" id=\"DejaVuSans-49\"/>\n       </defs>\n       <use xlink:href=\"#DejaVuSans-49\"/>\n       <use x=\"63.623047\" xlink:href=\"#DejaVuSans-48\"/>\n       <use x=\"127.246094\" xlink:href=\"#DejaVuSans-48\"/>\n      </g>\n     </g>\n    </g>\n    <g id=\"xtick_6\">\n     <g id=\"line2d_6\">\n      <g>\n       <use style=\"stroke:#000000;stroke-width:0.8;\" x=\"237.012\" xlink:href=\"#m655619913d\" y=\"177.562219\"/>\n      </g>\n     </g>\n     <g id=\"text_6\">\n      <!-- 125 -->\n      <g transform=\"translate(227.46825 192.160656)scale(0.1 -0.1)\">\n       <use xlink:href=\"#DejaVuSans-49\"/>\n       <use x=\"63.623047\" xlink:href=\"#DejaVuSans-50\"/>\n       <use x=\"127.246094\" xlink:href=\"#DejaVuSans-53\"/>\n      </g>\n     </g>\n    </g>\n    <g id=\"xtick_7\">\n     <g id=\"line2d_7\">\n      <g>\n       <use style=\"stroke:#000000;stroke-width:0.8;\" x=\"278.862\" xlink:href=\"#m655619913d\" y=\"177.562219\"/>\n      </g>\n     </g>\n     <g id=\"text_7\">\n      <!-- 150 -->\n      <g transform=\"translate(269.31825 192.160656)scale(0.1 -0.1)\">\n       <use xlink:href=\"#DejaVuSans-49\"/>\n       <use x=\"63.623047\" xlink:href=\"#DejaVuSans-53\"/>\n       <use x=\"127.246094\" xlink:href=\"#DejaVuSans-48\"/>\n      </g>\n     </g>\n    </g>\n    <g id=\"xtick_8\">\n     <g id=\"line2d_8\">\n      <g>\n       <use style=\"stroke:#000000;stroke-width:0.8;\" x=\"320.712\" xlink:href=\"#m655619913d\" y=\"177.562219\"/>\n      </g>\n     </g>\n     <g id=\"text_8\">\n      <!-- 175 -->\n      <g transform=\"translate(311.16825 192.160656)scale(0.1 -0.1)\">\n       <use xlink:href=\"#DejaVuSans-49\"/>\n       <use x=\"63.623047\" xlink:href=\"#DejaVuSans-55\"/>\n       <use x=\"127.246094\" xlink:href=\"#DejaVuSans-53\"/>\n      </g>\n     </g>\n    </g>\n   </g>\n   <g id=\"matplotlib.axis_2\">\n    <g id=\"ytick_1\">\n     <g id=\"line2d_9\">\n      <defs>\n       <path d=\"M 0 0 \nL -3.5 0 \n\" id=\"mafc63b2f25\" style=\"stroke:#000000;stroke-width:0.8;\"/>\n      </defs>\n      <g>\n       <use style=\"stroke:#000000;stroke-width:0.8;\" x=\"26.925\" xlink:href=\"#mafc63b2f25\" y=\"10.999219\"/>\n      </g>\n     </g>\n     <g id=\"text_9\">\n      <!-- 0 -->\n      <g transform=\"translate(13.5625 14.798438)scale(0.1 -0.1)\">\n       <use xlink:href=\"#DejaVuSans-48\"/>\n      </g>\n     </g>\n    </g>\n    <g id=\"ytick_2\">\n     <g id=\"line2d_10\">\n      <g>\n       <use style=\"stroke:#000000;stroke-width:0.8;\" x=\"26.925\" xlink:href=\"#mafc63b2f25\" y=\"44.479219\"/>\n      </g>\n     </g>\n     <g id=\"text_10\">\n      <!-- 20 -->\n      <g transform=\"translate(7.2 48.278437)scale(0.1 -0.1)\">\n       <use xlink:href=\"#DejaVuSans-50\"/>\n       <use x=\"63.623047\" xlink:href=\"#DejaVuSans-48\"/>\n      </g>\n     </g>\n    </g>\n    <g id=\"ytick_3\">\n     <g id=\"line2d_11\">\n      <g>\n       <use style=\"stroke:#000000;stroke-width:0.8;\" x=\"26.925\" xlink:href=\"#mafc63b2f25\" y=\"77.959219\"/>\n      </g>\n     </g>\n     <g id=\"text_11\">\n      <!-- 40 -->\n      <g transform=\"translate(7.2 81.758438)scale(0.1 -0.1)\">\n       <defs>\n        <path d=\"M 37.796875 64.3125 \nL 12.890625 25.390625 \nL 37.796875 25.390625 \nz\nM 35.203125 72.90625 \nL 47.609375 72.90625 \nL 47.609375 25.390625 \nL 58.015625 25.390625 \nL 58.015625 17.1875 \nL 47.609375 17.1875 \nL 47.609375 0 \nL 37.796875 0 \nL 37.796875 17.1875 \nL 4.890625 17.1875 \nL 4.890625 26.703125 \nz\n\" id=\"DejaVuSans-52\"/>\n       </defs>\n       <use xlink:href=\"#DejaVuSans-52\"/>\n       <use x=\"63.623047\" xlink:href=\"#DejaVuSans-48\"/>\n      </g>\n     </g>\n    </g>\n    <g id=\"ytick_4\">\n     <g id=\"line2d_12\">\n      <g>\n       <use style=\"stroke:#000000;stroke-width:0.8;\" x=\"26.925\" xlink:href=\"#mafc63b2f25\" y=\"111.439219\"/>\n      </g>\n     </g>\n     <g id=\"text_12\">\n      <!-- 60 -->\n      <g transform=\"translate(7.2 115.238438)scale(0.1 -0.1)\">\n       <defs>\n        <path d=\"M 33.015625 40.375 \nQ 26.375 40.375 22.484375 35.828125 \nQ 18.609375 31.296875 18.609375 23.390625 \nQ 18.609375 15.53125 22.484375 10.953125 \nQ 26.375 6.390625 33.015625 6.390625 \nQ 39.65625 6.390625 43.53125 10.953125 \nQ 47.40625 15.53125 47.40625 23.390625 \nQ 47.40625 31.296875 43.53125 35.828125 \nQ 39.65625 40.375 33.015625 40.375 \nz\nM 52.59375 71.296875 \nL 52.59375 62.3125 \nQ 48.875 64.0625 45.09375 64.984375 \nQ 41.3125 65.921875 37.59375 65.921875 \nQ 27.828125 65.921875 22.671875 59.328125 \nQ 17.53125 52.734375 16.796875 39.40625 \nQ 19.671875 43.65625 24.015625 45.921875 \nQ 28.375 48.1875 33.59375 48.1875 \nQ 44.578125 48.1875 50.953125 41.515625 \nQ 57.328125 34.859375 57.328125 23.390625 \nQ 57.328125 12.15625 50.6875 5.359375 \nQ 44.046875 -1.421875 33.015625 -1.421875 \nQ 20.359375 -1.421875 13.671875 8.265625 \nQ 6.984375 17.96875 6.984375 36.375 \nQ 6.984375 53.65625 15.1875 63.9375 \nQ 23.390625 74.21875 37.203125 74.21875 \nQ 40.921875 74.21875 44.703125 73.484375 \nQ 48.484375 72.75 52.59375 71.296875 \nz\n\" id=\"DejaVuSans-54\"/>\n       </defs>\n       <use xlink:href=\"#DejaVuSans-54\"/>\n       <use x=\"63.623047\" xlink:href=\"#DejaVuSans-48\"/>\n      </g>\n     </g>\n    </g>\n    <g id=\"ytick_5\">\n     <g id=\"line2d_13\">\n      <g>\n       <use style=\"stroke:#000000;stroke-width:0.8;\" x=\"26.925\" xlink:href=\"#mafc63b2f25\" y=\"144.919219\"/>\n      </g>\n     </g>\n     <g id=\"text_13\">\n      <!-- 80 -->\n      <g transform=\"translate(7.2 148.718438)scale(0.1 -0.1)\">\n       <defs>\n        <path d=\"M 31.78125 34.625 \nQ 24.75 34.625 20.71875 30.859375 \nQ 16.703125 27.09375 16.703125 20.515625 \nQ 16.703125 13.921875 20.71875 10.15625 \nQ 24.75 6.390625 31.78125 6.390625 \nQ 38.8125 6.390625 42.859375 10.171875 \nQ 46.921875 13.96875 46.921875 20.515625 \nQ 46.921875 27.09375 42.890625 30.859375 \nQ 38.875 34.625 31.78125 34.625 \nz\nM 21.921875 38.8125 \nQ 15.578125 40.375 12.03125 44.71875 \nQ 8.5 49.078125 8.5 55.328125 \nQ 8.5 64.0625 14.71875 69.140625 \nQ 20.953125 74.21875 31.78125 74.21875 \nQ 42.671875 74.21875 48.875 69.140625 \nQ 55.078125 64.0625 55.078125 55.328125 \nQ 55.078125 49.078125 51.53125 44.71875 \nQ 48 40.375 41.703125 38.8125 \nQ 48.828125 37.15625 52.796875 32.3125 \nQ 56.78125 27.484375 56.78125 20.515625 \nQ 56.78125 9.90625 50.3125 4.234375 \nQ 43.84375 -1.421875 31.78125 -1.421875 \nQ 19.734375 -1.421875 13.25 4.234375 \nQ 6.78125 9.90625 6.78125 20.515625 \nQ 6.78125 27.484375 10.78125 32.3125 \nQ 14.796875 37.15625 21.921875 38.8125 \nz\nM 18.3125 54.390625 \nQ 18.3125 48.734375 21.84375 45.5625 \nQ 25.390625 42.390625 31.78125 42.390625 \nQ 38.140625 42.390625 41.71875 45.5625 \nQ 45.3125 48.734375 45.3125 54.390625 \nQ 45.3125 60.0625 41.71875 63.234375 \nQ 38.140625 66.40625 31.78125 66.40625 \nQ 25.390625 66.40625 21.84375 63.234375 \nQ 18.3125 60.0625 18.3125 54.390625 \nz\n\" id=\"DejaVuSans-56\"/>\n       </defs>\n       <use xlink:href=\"#DejaVuSans-56\"/>\n       <use x=\"63.623047\" xlink:href=\"#DejaVuSans-48\"/>\n      </g>\n     </g>\n    </g>\n   </g>\n   <g id=\"patch_3\">\n    <path d=\"M 26.925 177.562219 \nL 26.925 10.162219 \n\" style=\"fill:none;stroke:#000000;stroke-linecap:square;stroke-linejoin:miter;stroke-width:0.8;\"/>\n   </g>\n   <g id=\"patch_4\">\n    <path d=\"M 361.725 177.562219 \nL 361.725 10.162219 \n\" style=\"fill:none;stroke:#000000;stroke-linecap:square;stroke-linejoin:miter;stroke-width:0.8;\"/>\n   </g>\n   <g id=\"patch_5\">\n    <path d=\"M 26.925 177.562219 \nL 361.725 177.562219 \n\" style=\"fill:none;stroke:#000000;stroke-linecap:square;stroke-linejoin:miter;stroke-width:0.8;\"/>\n   </g>\n   <g id=\"patch_6\">\n    <path d=\"M 26.925 10.162219 \nL 361.725 10.162219 \n\" style=\"fill:none;stroke:#000000;stroke-linecap:square;stroke-linejoin:miter;stroke-width:0.8;\"/>\n   </g>\n  </g>\n </g>\n <defs>\n  <clipPath id=\"pa8abb611e3\">\n   <rect height=\"167.4\" width=\"334.8\" x=\"26.925\" y=\"10.162219\"/>\n  </clipPath>\n </defs>\n</svg>\n",
      "image/png": "[encoded data removed]"
     },
     "metadata": {
      "needs_background": "light"
     }
    }
   ],
   "source": [
    "plt.imshow(space_map)"
   ]
  },
  {
   "cell_type": "code",
   "execution_count": 85,
   "metadata": {},
   "outputs": [],
   "source": [
    "def updateMap(space_map, state, color):\n",
    "    X, Y, _ = space_map.shape\n",
    "    transformed_y = state[0]\n",
    "    transformed_x = X - state[1] - 1\n",
    "    space_map[transformed_x, transformed_y, :] = color \n",
    "    return space_map\n"
   ]
  },
  {
   "cell_type": "code",
   "execution_count": 86,
   "metadata": {},
   "outputs": [],
   "source": [
    "for i in range(90, 90+20+1):\n",
    "    for j in range(40, 40+20+1):\n",
    "        updateMap(space_map, [i,j], [255, 0, 0])\n"
   ]
  },
  {
   "cell_type": "code",
   "execution_count": 87,
   "metadata": {
    "tags": []
   },
   "outputs": [
    {
     "output_type": "stream",
     "name": "stdout",
     "text": [
      "Goal Reached!\nTotal number of nodes explored: 28915\nThe cost of path:  108.28427124746186\n"
     ]
    }
   ],
   "source": [
    "nodes = list()\n",
    "visited_states = list()\n",
    "\n",
    "init_node = Node(init_state, 0, None, 0)\n",
    "nodes.append(init_node)\n",
    "\n",
    "while(nodes):\n",
    "\n",
    "    current_node = nodes.pop()\n",
    "    visited_states.append(current_node.getState())\n",
    "    space_map = updateMap(space_map, current_node.getState(), [0, 255, 0])\n",
    "    cv2.imshow('frame',space_map)\n",
    "    if cv2.waitKey(1) & 0xFF == ord('q'):\n",
    "        break\n",
    "    # print(current_node.getState())\n",
    "    # print(\"visited_states = \", visited_states)\n",
    "    \n",
    "\n",
    "    if np.array_equal(current_node.getState(), goal_state):\n",
    "        \n",
    "        print(\"Goal Reached!\")\n",
    "        print(\"Total number of nodes explored:\", len(visited_states))\n",
    "        print(\"The cost of path: \", current_node.getCost())\n",
    "        full_path, node_path = current_node.getFullPath()\n",
    "\n",
    "\n",
    "        #return full_path, node_path\n",
    "        for node in node_path:\n",
    "            pos = node.getState()\n",
    "            space_map = updateMap(space_map, pos, [0, 0, 255])\n",
    "\n",
    "        cv2.waitKey() \n",
    "        cv2.destroyAllWindows()\n",
    "\n",
    "        break\n",
    "\n",
    "    else:\n",
    "        branches = getBranches(current_node, step_size, space_size) \n",
    "        \n",
    "        for branch in branches:\n",
    "            branch_state = branch.getState()\n",
    "            if branch_state not in visited_states:\n",
    "                # print(\"inserting \", branch_state)\n",
    "                nodes.insert(0, branch)\n",
    "                visited_states.append(branch_state)"
   ]
  },
  {
   "cell_type": "code",
   "execution_count": 48,
   "metadata": {},
   "outputs": [],
   "source": [
    "        cv2.destroyAllWindows()"
   ]
  },
  {
   "cell_type": "code",
   "execution_count": 78,
   "metadata": {},
   "outputs": [],
   "source": [
    "        for node in node_path:\n",
    "            pos = node.getState()\n",
    "            space_map = updateMap(space_map, pos, [0, 0, 255])"
   ]
  },
  {
   "cell_type": "code",
   "execution_count": 88,
   "metadata": {},
   "outputs": [],
   "source": [
    "cv2.imshow('frame',space_map)\n",
    "cv2.waitKey() \n",
    "cv2.destroyAllWindows()"
   ]
  },
  {
   "cell_type": "code",
   "execution_count": null,
   "metadata": {},
   "outputs": [],
   "source": []
  }
 ]
}